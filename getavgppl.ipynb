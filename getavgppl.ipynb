{
 "cells": [
  {
   "cell_type": "code",
   "execution_count": 2,
   "metadata": {},
   "outputs": [],
   "source": [
    "import json\n",
    "import math\n",
    "# filename=''\n",
    "# filename='/home/chenruiyang/Code/LLM/EAGLE3/mt_bench_prune/llama38b2_40-temperature-0.0-pct025.jsonl'\n",
    "filename='/home/chenruiyang/Code/LLM/EAGLE3/mt_bench_prune/llama38b2_40-temperature-0.0-pct04.jsonl'\n",
    "\n",
    "\n",
    "def getppl(filename):\n",
    "    # 从文件中读取数据\n",
    "    with open(filename, 'r') as f:\n",
    "        data = [json.loads(line) for line in f]\n",
    "\n",
    "    # 提取所有ppl值\n",
    "    all_ppl = []\n",
    "    for entry in data:\n",
    "        for choice in entry['choices']:\n",
    "            all_ppl.extend(choice['ppl'])\n",
    "\n",
    "    # 计算算术平均值\n",
    "    arithmetic_avg = sum(all_ppl) / len(all_ppl)\n",
    "    \n",
    "    # 计算几何平均值\n",
    "    log_sum = sum(math.log(p) for p in all_ppl)\n",
    "    geometric_avg = math.exp(log_sum / len(all_ppl))\n",
    "\n",
    "    # 输出结果\n",
    "    # print(\"所有ppl值:\", all_ppl)\n",
    "    print(f\"算术平均ppl: {round(arithmetic_avg, 4)} 几何平均ppl: {round(geometric_avg, 4)}\")\n",
    "    # print(f\"\")\n",
    "    # print(f\"几何平均比算术平均低: {round(arithmetic_avg - geometric_avg, 4)}\")\n",
    "\n",
    "# 示例调用\n",
    "# getppl('your_file.json')"
   ]
  },
  {
   "cell_type": "code",
   "execution_count": 12,
   "metadata": {},
   "outputs": [
    {
     "name": "stdout",
     "output_type": "stream",
     "text": [
      "baseline\n",
      "算术平均ppl: 9.765 几何平均ppl: 7.2674\n",
      "maxtop50p\n",
      "算术平均ppl: 10.3116 几何平均ppl: 8.7088\n",
      "算术平均ppl: 10.6851 几何平均ppl: 8.7996\n",
      "maxtop75p\n",
      "算术平均ppl: 10.8542 几何平均ppl: 8.7602\n",
      "算术平均ppl: 9.6758 几何平均ppl: 8.1315\n",
      "maxtop100p\n",
      "算术平均ppl: 9.4517 几何平均ppl: 7.8133\n",
      "算术平均ppl: 8.7675 几何平均ppl: 7.8889\n",
      "算术平均ppl: 9.1814 几何平均ppl: 7.6219\n",
      "maxtop150p\n",
      "算术平均ppl: 8.9679 几何平均ppl: 7.6363\n",
      "算术平均ppl: 8.8706 几何平均ppl: 7.4202\n",
      "算术平均ppl: 8.616 几何平均ppl: 7.0672\n"
     ]
    }
   ],
   "source": [
    "print('baseline')\n",
    "getppl('/home/chenruiyang/Code/LLM/EAGLE3/mt_bench/llama38b2_40-temperature-0.0.jsonl')\n",
    "# print('topk')\n",
    "# getppl(\"/home/chenruiyang/Code/LLM/EAGLE3/mt_bench_prune/llama38b2_40-temperature-0.0-topk80.jsonl\")\n",
    "# getppl(\"/home/chenruiyang/Code/LLM/EAGLE3/mt_bench_prune/llama38b2_40-temperature-0.0-topk100.jsonl\")\n",
    "# getppl(\"/home/chenruiyang/Code/LLM/EAGLE3/mt_bench_prune/llama38b2_40-temperature-0.0-topk150.jsonl\")\n",
    "# print('pct')\n",
    "# getppl(\"/home/chenruiyang/Code/LLM/EAGLE3/mt_bench_prune/llama38b2_40-temperature-0.0-pct025.jsonl\")\n",
    "# getppl(\"/home/chenruiyang/Code/LLM/EAGLE3/mt_bench_prune/llama38b2_40-temperature-0.0-pct04.jsonl\")\n",
    "# getppl(\"/home/chenruiyang/Code/LLM/EAGLE3/mt_bench_prune/llama38b2_40-temperature-0.0-pct05.jsonl\")\n",
    "# getppl(\"/home/chenruiyang/Code/LLM/EAGLE3/mt_bench_prune/llama38b2_40-temperature-0.0-pct06.jsonl\")\n",
    "print('maxtop50p')\n",
    "# getppl(\"/home/chenruiyang/Code/LLM/EAGLE3/mt_bench_prune/llama38b2_40-temperature-0.0-maxtop50p005.jsonl\")\n",
    "# getppl(\"/home/chenruiyang/Code/LLM/EAGLE3/mt_bench_prune/llama38b2_40-temperature-0.0-maxtop50p010.jsonl\")\n",
    "# getppl(\"/home/chenruiyang/Code/LLM/EAGLE3/mt_bench_prune/llama38b2_40-temperature-0.0-maxtop50p015.jsonl\")\n",
    "getppl(\"/home/chenruiyang/Code/LLM/EAGLE3/mt_bench_prune/llama38b2_40-temperature-0.0-maxtop50p020.jsonl\")\n",
    "getppl(\"/home/chenruiyang/Code/LLM/EAGLE3/mt_bench_prune/llama38b2_40-temperature-0.0-maxtop50p025.jsonl\")\n",
    "print('maxtop75p')\n",
    "# getppl(\"/home/chenruiyang/Code/LLM/EAGLE3/mt_bench_prune/llama38b2_40-temperature-0.0-maxtop75p005.jsonl\")\n",
    "# getppl(\"/home/chenruiyang/Code/LLM/EAGLE3/mt_bench_prune/llama38b2_40-temperature-0.0-maxtop75p010.jsonl\")\n",
    "# getppl(\"/home/chenruiyang/Code/LLM/EAGLE3/mt_bench_prune/llama38b2_40-temperature-0.0-maxtop75p015.jsonl\")\n",
    "getppl(\"/home/chenruiyang/Code/LLM/EAGLE3/mt_bench_prune/llama38b2_40-temperature-0.0-maxtop75p020.jsonl\")\n",
    "getppl(\"/home/chenruiyang/Code/LLM/EAGLE3/mt_bench_prune/llama38b2_40-temperature-0.0-maxtop75p025.jsonl\")\n",
    "print('maxtop100p')\n",
    "getppl(\"/home/chenruiyang/Code/LLM/EAGLE3/mt_bench_prune/llama38b2_40-temperature-0.0-maxtop100p015.jsonl\")\n",
    "getppl(\"/home/chenruiyang/Code/LLM/EAGLE3/mt_bench_prune/llama38b2_40-temperature-0.0-maxtop100p025.jsonl\")\n",
    "getppl(\"/home/chenruiyang/Code/LLM/EAGLE3/mt_bench_prune/llama38b2_40-temperature-0.0-maxtop100p04.jsonl\")\n",
    "print('maxtop150p')\n",
    "getppl(\"/home/chenruiyang/Code/LLM/EAGLE3/mt_bench_prune/llama38b2_40-temperature-0.0-maxtop150p015.jsonl\")\n",
    "getppl(\"/home/chenruiyang/Code/LLM/EAGLE3/mt_bench_prune/llama38b2_40-temperature-0.0-maxtop150p025.jsonl\")\n",
    "getppl(\"/home/chenruiyang/Code/LLM/EAGLE3/mt_bench_prune/llama38b2_40-temperature-0.0-maxtop150p04.jsonl\")\n",
    "\n",
    "# print('topp')\n",
    "# getppl(\"/home/chenruiyang/Code/LLM/EAGLE3/mt_bench_prune/llama38b2_40-temperature-0.0-topp02.jsonl\")\n",
    "# getppl(\"/home/chenruiyang/Code/LLM/EAGLE3/mt_bench_prune/llama38b2_40-temperature-0.0-topp04.jsonl\")\n",
    "# getppl(\"/home/chenruiyang/Code/LLM/EAGLE3/mt_bench_prune/llama38b2_40-temperature-0.0-topp06.jsonl\")\n",
    "# getppl(\"/home/chenruiyang/Code/LLM/EAGLE3/mt_bench_prune/llama38b2_40-temperature-0.0-topp07.jsonl\")\n",
    "# getppl(\"/home/chenruiyang/Code/LLM/EAGLE3/mt_bench_prune/llama38b2_40-temperature-0.0-topp08.jsonl\")\n"
   ]
  },
  {
   "cell_type": "code",
   "execution_count": 3,
   "metadata": {},
   "outputs": [
    {
     "name": "stdout",
     "output_type": "stream",
     "text": [
      "baseline\n",
      "算术平均ppl: 9.765 几何平均ppl: 7.2674\n",
      "算术平均ppl: 10.281 几何平均ppl: 7.822\n",
      "算术平均ppl: 7.6387 几何平均ppl: 4.6678\n"
     ]
    }
   ],
   "source": [
    "print('baseline')\n",
    "getppl('/home/chenruiyang/Code/LLM/EAGLE3/mt_bench/llama38b2_40-temperature-0.0.jsonl')\n",
    "getppl('/home/chenruiyang/Code/LLM/EAGLE3/mt_bench/antquant88-llama38b2_40-temperature-0.0.jsonl')\n",
    "getppl('/home/chenruiyang/Code/LLM/EAGLE3/mt_bench/antquant44-llama38b2_40-temperature-0.0.jsonl')\n",
    "\n"
   ]
  }
 ],
 "metadata": {
  "kernelspec": {
   "display_name": "eagle",
   "language": "python",
   "name": "python3"
  },
  "language_info": {
   "codemirror_mode": {
    "name": "ipython",
    "version": 3
   },
   "file_extension": ".py",
   "mimetype": "text/x-python",
   "name": "python",
   "nbconvert_exporter": "python",
   "pygments_lexer": "ipython3",
   "version": "3.11.12"
  }
 },
 "nbformat": 4,
 "nbformat_minor": 2
}
